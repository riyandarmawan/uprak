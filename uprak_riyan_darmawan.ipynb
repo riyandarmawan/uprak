{
    "metadata": {
        "kernelspec": {
            "name": "SQL",
            "display_name": "SQL",
            "language": "sql"
        },
        "language_info": {
            "name": "sql",
            "version": ""
        }
    },
    "nbformat_minor": 2,
    "nbformat": 4,
    "cells": [
        {
            "cell_type": "code",
            "source": [
                "CREATE DATABASE uprak_riyan_darmawan;"
            ],
            "metadata": {
                "azdata_cell_guid": "91085d60-f76f-4c0f-acf1-7f9663e4a3ca",
                "language": "sql"
            },
            "outputs": [
                {
                    "output_type": "display_data",
                    "data": {
                        "text/html": "Commands completed successfully"
                    },
                    "metadata": {}
                },
                {
                    "output_type": "display_data",
                    "data": {
                        "text/html": "Total execution time: 00:00:00.046"
                    },
                    "metadata": {}
                }
            ],
            "execution_count": 1
        },
        {
            "cell_type": "code",
            "source": [
                "USE uprak_riyan_darmawan;"
            ],
            "metadata": {
                "azdata_cell_guid": "e7f6e7ba-cc62-4e17-8513-4c28669b502d",
                "language": "sql"
            },
            "outputs": [
                {
                    "output_type": "display_data",
                    "data": {
                        "text/html": "Commands completed successfully"
                    },
                    "metadata": {}
                },
                {
                    "output_type": "display_data",
                    "data": {
                        "text/html": "Total execution time: 00:00:00.013"
                    },
                    "metadata": {}
                }
            ],
            "execution_count": 2
        },
        {
            "cell_type": "code",
            "source": [
                "CREATE TABLE jurusan(\r\n",
                "    id INT PRIMARY KEY AUTO_INCREMENT,\r\n",
                "    kode_jurusan VARCHAR(10),\r\n",
                "    deskripsi VARCHAR(50)\r\n",
                ");"
            ],
            "metadata": {
                "azdata_cell_guid": "8a2a4135-4cea-45e0-8f69-a1178d90843f",
                "language": "sql"
            },
            "outputs": [
                {
                    "output_type": "display_data",
                    "data": {
                        "text/html": "Commands completed successfully"
                    },
                    "metadata": {}
                },
                {
                    "output_type": "display_data",
                    "data": {
                        "text/html": "Total execution time: 00:00:00.080"
                    },
                    "metadata": {}
                }
            ],
            "execution_count": 3
        },
        {
            "cell_type": "code",
            "source": [
                "CREATE TABLE kelas(\r\n",
                "    id INT PRIMARY KEY AUTO_INCREMENT,\r\n",
                "    kode_kelas VARCHAR(10),\r\n",
                "    tingkat ENUM('10','11','12'),\r\n",
                "    jurusan_id INT,\r\n",
                "    FOREIGN KEY (jurusan_id) REFERENCES jurusan(id)\r\n",
                ");"
            ],
            "metadata": {
                "azdata_cell_guid": "7d301fb8-b906-4cff-8af1-11841803e3cb",
                "language": "sql"
            },
            "outputs": [
                {
                    "output_type": "display_data",
                    "data": {
                        "text/html": "Commands completed successfully"
                    },
                    "metadata": {}
                },
                {
                    "output_type": "display_data",
                    "data": {
                        "text/html": "Total execution time: 00:00:00.078"
                    },
                    "metadata": {}
                }
            ],
            "execution_count": 4
        },
        {
            "cell_type": "code",
            "source": [
                "CREATE TABLE spp(\r\n",
                "    id INT PRIMARY KEY AUTO_INCREMENT,\r\n",
                "    tahun YEAR,\r\n",
                "    nominal BIGINT\r\n",
                ");"
            ],
            "metadata": {
                "azdata_cell_guid": "d4a9c9e7-02c4-491b-8a86-02d17d93f51a",
                "language": "sql"
            },
            "outputs": [
                {
                    "output_type": "display_data",
                    "data": {
                        "text/html": "Commands completed successfully"
                    },
                    "metadata": {}
                },
                {
                    "output_type": "display_data",
                    "data": {
                        "text/html": "Total execution time: 00:00:00.010"
                    },
                    "metadata": {}
                }
            ],
            "execution_count": 14
        },
        {
            "cell_type": "code",
            "source": [
                "CREATE TABLE siswa(\r\n",
                "    nis BIGINT PRIMARY KEY,\r\n",
                "    nama_lengkap VARCHAR(50),\r\n",
                "    tanggal_lahir DATE,\r\n",
                "    jenis_kelamin ENUM('l', 'p'),\r\n",
                "    alamat VARCHAR(100),\r\n",
                "    no_hp VARCHAR(13),\r\n",
                "    kelas_id INT,\r\n",
                "    spp_id INT,\r\n",
                "    FOREIGN KEY (kelas_id) REFERENCES kelas(id),\r\n",
                "    FOREIGN KEY (spp_id) REFERENCES spp(id)\r\n",
                ");"
            ],
            "metadata": {
                "azdata_cell_guid": "d4dcae0f-9b75-48b6-ba77-ce57fc3bfac7",
                "language": "sql"
            },
            "outputs": [
                {
                    "output_type": "display_data",
                    "data": {
                        "text/html": "Commands completed successfully"
                    },
                    "metadata": {}
                },
                {
                    "output_type": "display_data",
                    "data": {
                        "text/html": "Total execution time: 00:00:00.053"
                    },
                    "metadata": {}
                }
            ],
            "execution_count": 15
        },
        {
            "cell_type": "code",
            "source": [
                "CREATE TABLE admin(\r\n",
                "    id INT PRIMARY KEY AUTO_INCREMENT,\r\n",
                "    nama_lengkap VARCHAR(50),\r\n",
                "    alamat VARCHAR(100),\r\n",
                "    no_hp VARCHAR(13),\r\n",
                "    username VARCHAR(50),\r\n",
                "    password VARCHAR(255)\r\n",
                ");"
            ],
            "metadata": {
                "azdata_cell_guid": "15215710-fd85-4fcc-a474-40458c9fe396",
                "language": "sql"
            },
            "outputs": [
                {
                    "output_type": "display_data",
                    "data": {
                        "text/html": "Commands completed successfully"
                    },
                    "metadata": {}
                },
                {
                    "output_type": "display_data",
                    "data": {
                        "text/html": "Total execution time: 00:00:00.026"
                    },
                    "metadata": {}
                }
            ],
            "execution_count": 7
        },
        {
            "cell_type": "code",
            "source": [
                "CREATE TABLE pembayaran(\r\n",
                "    no_transaksi VARCHAR(20) PRIMARY KEY,\r\n",
                "    tanggal DATE,\r\n",
                "    nis BIGINT,\r\n",
                "    bulan_tagihan INT,\r\n",
                "    tahun_tagihan YEAR,\r\n",
                "    admin_id INT,\r\n",
                "    FOREIGN KEY (nis) REFERENCES siswa(nis),\r\n",
                "    FOREIGN KEY (admin_id) REFERENCES admin(id)\r\n",
                ");"
            ],
            "metadata": {
                "azdata_cell_guid": "e3d6b199-fb6a-4f39-8ac0-ddf2900db8ca",
                "language": "sql"
            },
            "outputs": [
                {
                    "output_type": "display_data",
                    "data": {
                        "text/html": "Commands completed successfully"
                    },
                    "metadata": {}
                },
                {
                    "output_type": "display_data",
                    "data": {
                        "text/html": "Total execution time: 00:00:00.163"
                    },
                    "metadata": {}
                }
            ],
            "execution_count": 8
        },
        {
            "cell_type": "code",
            "source": [
                "INSERT INTO jurusan(kode_jurusan, deskripsi) VALUES\r\n",
                "('RPL', 'Rekayasa Perangkat Lunak'),\r\n",
                "('TKRO', 'Teknik Kendaraan Ringan Otomotif'),\r\n",
                "('TP', 'Teknik Permesinan');"
            ],
            "metadata": {
                "azdata_cell_guid": "7d0be53b-836d-4a81-bf24-29fc9b3084ba",
                "language": "sql"
            },
            "outputs": [
                {
                    "output_type": "display_data",
                    "data": {
                        "text/html": "Commands completed successfully"
                    },
                    "metadata": {}
                },
                {
                    "output_type": "display_data",
                    "data": {
                        "text/html": "Total execution time: 00:00:00.029"
                    },
                    "metadata": {}
                }
            ],
            "execution_count": 9
        },
        {
            "cell_type": "code",
            "source": [
                "INSERT INTO spp(tahun,nominal) VALUES\r\n",
                "('2020', '150000'),\r\n",
                "('2021', '175000'),\r\n",
                "('2022', '200000'),\r\n",
                "('2023', '225000'),\r\n",
                "('2024', '250000');"
            ],
            "metadata": {
                "azdata_cell_guid": "a80f7378-44df-4917-b380-4f96af5d6116",
                "language": "sql"
            },
            "outputs": [
                {
                    "output_type": "display_data",
                    "data": {
                        "text/html": "Commands completed successfully"
                    },
                    "metadata": {}
                },
                {
                    "output_type": "display_data",
                    "data": {
                        "text/html": "Total execution time: 00:00:00.005"
                    },
                    "metadata": {}
                }
            ],
            "execution_count": 16
        },
        {
            "cell_type": "code",
            "source": [
                "INSERT INTO kelas(kode_kelas,tingkat,jurusan_id) VALUES\r\n",
                "('X-RPL', '10', '1'),\r\n",
                "('XI-RPL', '11', '1'),\r\n",
                "('XII-RPL', '12', '1'),\r\n",
                "('X-TKRO-1', '10', '2'),\r\n",
                "('X-TKRO-2', '10', '2'),\r\n",
                "('XI-TKRO-1', '11', '2'),\r\n",
                "('XI-TKRO-2', '11', '2'),\r\n",
                "('XII-TKRO-1', '12', '2'),\r\n",
                "('XII-TKRO-2', '12', '2'),\r\n",
                "('X-TP', '10', '3'),\r\n",
                "('XI-TP', '11', '3'),\r\n",
                "('XII-TP', '12', '3');"
            ],
            "metadata": {
                "azdata_cell_guid": "17a4b85a-4be3-4690-9dd1-b5f3ceb3ac2f",
                "language": "sql"
            },
            "outputs": [
                {
                    "output_type": "display_data",
                    "data": {
                        "text/html": "Commands completed successfully"
                    },
                    "metadata": {}
                },
                {
                    "output_type": "display_data",
                    "data": {
                        "text/html": "Total execution time: 00:00:00.009"
                    },
                    "metadata": {}
                }
            ],
            "execution_count": 11
        },
        {
            "cell_type": "code",
            "source": [
                "INSERT INTO siswa(nis,nama_lengkap,tanggal_lahir,jenis_kelamin,alamat,no_hp,kelas_id,spp_id) VALUES  \r\n",
                "('22001001', 'Santi Rima', '2000/06/18', 'l', 'Ciwangi', '08121234495', '12', '3'),\r\n",
                "('22001002', 'Satria Melati', '2000/07/04', 'p', 'Cimanuk', '08121234404', '3', '3'),\r\n",
                "('22001003', 'Santi Hana', '2000/05/04', 'l', 'Citalang', '08121234471', '11', '4'),\r\n",
                "('22001004', 'Satria Melati', '2000/08/14', 'p', 'Cimanuk', '08121234417', '10', '5'),\r\n",
                "('22001005', 'Raden Sinta', '2000/01/12', 'l', 'Ciseureuh', '08121234472', '1', '5'),\r\n",
                "('22001006', 'Santi Lasmin', '2000/01/11', 'p', 'Cimaung', '08121234450', '4', '5'),\r\n",
                "('22001007', 'Mumun Melati', '2000/11/23', 'p', 'Cimaung', '08121234486', '1', '5'),\r\n",
                "('22001008', 'Santi Kenzo', '2000/01/19', 'p', 'Ciseureuh', '08121234406', '8', '3'),\r\n",
                "('22001009', 'Mumun Lasmi', '2000/11/06', 'p', 'Ciseureuh', '08121234457', '11', '4'),\r\n",
                "('22001010', 'Mala Lasmi', '2000/11/24', 'p', 'Citalang', '08121234499', '11', '4');"
            ],
            "metadata": {
                "azdata_cell_guid": "3aef3ace-18a8-498b-be86-cd7db9d9e8c9",
                "language": "sql"
            },
            "outputs": [
                {
                    "output_type": "display_data",
                    "data": {
                        "text/html": "Commands completed successfully"
                    },
                    "metadata": {}
                },
                {
                    "output_type": "display_data",
                    "data": {
                        "text/html": "Total execution time: 00:00:00.011"
                    },
                    "metadata": {}
                }
            ],
            "execution_count": 17
        },
        {
            "cell_type": "code",
            "source": [
                "INSERT INTO admin(nama_lengkap, alamat, no_hp, username, password) VALUES\r\n",
                "('Ahmad Saefudin', 'Cilegong', '081212342781', 'ahmadsaefudin', 'ahma1234'),\r\n",
                "('Winarti', 'Cibatu', '081212342774', 'winarti', 'wina1234'),\r\n",
                "('Setiawati', 'Citalang', '081212342796', 'setiawati', 'seti1234'),\r\n",
                "('Hana Sinta', 'Cimaung', '081212342796', 'hanasinta', 'hana1234');"
            ],
            "metadata": {
                "azdata_cell_guid": "e24af96f-7545-463f-8040-5bee3542e996",
                "language": "sql"
            },
            "outputs": [
                {
                    "output_type": "display_data",
                    "data": {
                        "text/html": "Commands completed successfully"
                    },
                    "metadata": {}
                },
                {
                    "output_type": "display_data",
                    "data": {
                        "text/html": "Total execution time: 00:00:00.007"
                    },
                    "metadata": {}
                }
            ],
            "execution_count": 13
        },
        {
            "cell_type": "code",
            "source": [
                "INSERT INTO `Pembayaran` (no_transaksi, tanggal, nis, bulan_tagihan, tahun_tagihan, admin_id) VALUES\r\n",
                "\t('SPP-2024-001', '2024-01-30', '22001001', '1', '2024', '1'),\r\n",
                "\t('SPP-2024-002', '2024-01-19', '22001002', '1', '2024', '3'),\r\n",
                "\t('SPP-2024-003', '2024-01-15', '22001003', '1', '2024', '4'),\r\n",
                "\t('SPP-2024-004', '2024-01-18', '22001004', '1', '2024', '1'),\r\n",
                "\t('SPP-2024-005', '2024-01-23', '22001005', '1', '2024', '1'),\r\n",
                "\t('SPP-2024-006', '2024-01-18', '22001006', '1', '2024', '1'),\r\n",
                "\t('SPP-2024-007', '2024-01-18', '22001007', '1', '2024', '4'),\r\n",
                "\t('SPP-2024-008', '2024-01-19', '22001010', '1', '2024', '4'),\r\n",
                "\t('SPP-2024-009', '2024-02-23', '22001003', '2', '2024', '3'),\r\n",
                "\t('SPP-2024-010', '2024-02-15', '22001004', '2', '2024', '3'),\r\n",
                "\t('SPP-2024-011', '2024-02-09', '22001005', '2', '2024', '1'),\r\n",
                "\t('SPP-2024-012', '2024-02-25', '22001006', '2', '2024', '2'),\r\n",
                "\t('SPP-2024-013', '2024-02-09', '22001007', '2', '2024', '1'),\r\n",
                "\t('SPP-2024-014', '2024-02-06', '22001008', '2', '2024', '2'),\r\n",
                "\t('SPP-2024-015', '2024-02-01', '22001009', '2', '2024', '4'),\r\n",
                "\t('SPP-2024-016', '2024-02-17', '22001010', '2', '2024', '4'),\r\n",
                "\t('SPP-2024-017', '2024-03-07', '22001001', '3', '2024', '4'),\r\n",
                "\t('SPP-2024-018', '2024-03-28', '22001002', '3', '2024', '4'),\r\n",
                "\t('SPP-2024-019', '2024-03-08', '22001003', '3', '2024', '4'),\r\n",
                "\t('SPP-2024-020', '2024-03-05', '22001004', '3', '2024', '1'),\r\n",
                "\t('SPP-2024-021', '2024-03-18', '22001005', '3', '2024', '1'),\r\n",
                "\t('SPP-2024-022', '2024-03-10', '22001006', '3', '2024', '3'),\r\n",
                "\t('SPP-2024-023', '2024-03-26', '22001007', '3', '2024', '1'),\r\n",
                "\t('SPP-2024-024', '2024-03-08', '22001008', '3', '2024', '1'),\r\n",
                "\t('SPP-2024-025', '2024-03-25', '22001009', '3', '2024', '1'),\r\n",
                "\t('SPP-2024-026', '2024-03-02', '22001010', '3', '2024', '1'),\r\n",
                "\t('SPP-2024-027', '2024-04-06', '22001001', '4', '2024', '1'),\r\n",
                "\t('SPP-2024-028', '2024-04-15', '22001002', '4', '2024', '4'),\r\n",
                "\t('SPP-2024-029', '2024-04-29', '22001003', '4', '2024', '2'),\r\n",
                "\t('SPP-2024-030', '2024-04-27', '22001004', '4', '2024', '3'),\r\n",
                "\t('SPP-2024-031', '2024-04-15', '22001005', '4', '2024', '4'),\r\n",
                "\t('SPP-2024-032', '2024-04-16', '22001006', '4', '2024', '1'),\r\n",
                "\t('SPP-2024-033', '2024-04-30', '22001007', '4', '2024', '3'),\r\n",
                "\t('SPP-2024-034', '2024-04-28', '22001008', '4', '2024', '4'),\r\n",
                "\t('SPP-2024-035', '2024-04-02', '22001009', '4', '2024', '1'),\r\n",
                "\t('SPP-2024-036', '2024-04-21', '22001010', '4', '2024', '4'),\r\n",
                "\t('SPP-2024-037', '2024-05-25', '22001001', '5', '2024', '4'),\r\n",
                "\t('SPP-2024-038', '2024-05-16', '22001002', '5', '2024', '4'),\r\n",
                "\t('SPP-2024-039', '2024-05-03', '22001005', '5', '2024', '1'),\r\n",
                "\t('SPP-2024-040', '2024-05-05', '22001006', '5', '2024', '1'),\r\n",
                "\t('SPP-2024-041', '2024-05-22', '22001007', '5', '2024', '4'),\r\n",
                "\t('SPP-2024-042', '2024-05-05', '22001008', '5', '2024', '4'),\r\n",
                "\t('SPP-2024-043', '2024-05-07', '22001009', '5', '2024', '3'),\r\n",
                "\t('SPP-2024-044', '2024-05-23', '22001010', '5', '2024', '1'),\r\n",
                "\t('SPP-2024-045', '2024-06-16', '22001004', '6', '2024', '2'),\r\n",
                "\t('SPP-2024-046', '2024-06-05', '22001005', '6', '2024', '3'),\r\n",
                "\t('SPP-2024-047', '2024-06-09', '22001006', '6', '2024', '2'),\r\n",
                "\t('SPP-2024-048', '2024-06-24', '22001007', '6', '2024', '4'),\r\n",
                "\t('SPP-2024-049', '2024-06-23', '22001008', '6', '2024', '1'),\r\n",
                "\t('SPP-2024-050', '2024-06-04', '22001009', '6', '2024', '4');"
            ],
            "metadata": {
                "azdata_cell_guid": "370d3b39-eee6-4914-8b1f-a345c8309ee4",
                "language": "sql"
            },
            "outputs": [
                {
                    "output_type": "display_data",
                    "data": {
                        "text/html": "Commands completed successfully"
                    },
                    "metadata": {}
                },
                {
                    "output_type": "display_data",
                    "data": {
                        "text/html": "Total execution time: 00:00:00.004"
                    },
                    "metadata": {}
                }
            ],
            "execution_count": 18
        },
        {
            "cell_type": "code",
            "source": [
                "SELECT siswa.*, spp.tahun, pembayaran.*\r\n",
                "FROM siswa\r\n",
                "LEFT JOIN spp ON spp.id = siswa.spp_id\r\n",
                "LEFT JOIN pembayaran ON pembayaran.nis = siswa.nis\r\n",
                "WHERE siswa.nis = '22001005' AND pembayaran.tahun_tagihan = '2024';"
            ],
            "metadata": {
                "azdata_cell_guid": "64c73485-42d7-439a-b6b0-bb24409a9821",
                "language": "sql"
            },
            "outputs": [
{
    "output_type": "display_data",
    "data": {
        "text/html": "(6 row(s) affected)"
    },
    "metadata": {}
}, {
    "output_type": "display_data",
    "data": {
        "text/html": "Total execution time: 00:00:01.030"
    },
    "metadata": {}
}, {
    "output_type": "execute_result",
    "metadata": {},
    "execution_count": 30,
    "data": {
        "application/vnd.dataresource+json": {
            "schema": {
                "fields": [
                    {
                        "name": "nis"
                    },
                    {
                        "name": "nama_lengkap"
                    },
                    {
                        "name": "tanggal_lahir"
                    },
                    {
                        "name": "jenis_kelamin"
                    },
                    {
                        "name": "alamat"
                    },
                    {
                        "name": "no_hp"
                    },
                    {
                        "name": "kelas_id"
                    },
                    {
                        "name": "spp_id"
                    },
                    {
                        "name": "tahun"
                    },
                    {
                        "name": "no_transaksi"
                    },
                    {
                        "name": "tanggal"
                    },
                    {
                        "name": "nis"
                    },
                    {
                        "name": "bulan_tagihan"
                    },
                    {
                        "name": "tahun_tagihan"
                    },
                    {
                        "name": "admin_id"
                    }
                ]
            },
            "data": [
                {
                    "nis": "22001005",
                    "nama_lengkap": "Raden Sinta",
                    "tanggal_lahir": "2000-01-12",
                    "jenis_kelamin": "l",
                    "alamat": "Ciseureuh",
                    "no_hp": "08121234472",
                    "kelas_id": "1",
                    "spp_id": "5",
                    "tahun": "2024",
                    "no_transaksi": "SPP-2024-005",
                    "tanggal": "2024-01-23",
                    "bulan_tagihan": "1",
                    "tahun_tagihan": "2024",
                    "admin_id": "1"
                },
                {
                    "nis": "22001005",
                    "nama_lengkap": "Raden Sinta",
                    "tanggal_lahir": "2000-01-12",
                    "jenis_kelamin": "l",
                    "alamat": "Ciseureuh",
                    "no_hp": "08121234472",
                    "kelas_id": "1",
                    "spp_id": "5",
                    "tahun": "2024",
                    "no_transaksi": "SPP-2024-011",
                    "tanggal": "2024-02-09",
                    "bulan_tagihan": "2",
                    "tahun_tagihan": "2024",
                    "admin_id": "1"
                },
                {
                    "nis": "22001005",
                    "nama_lengkap": "Raden Sinta",
                    "tanggal_lahir": "2000-01-12",
                    "jenis_kelamin": "l",
                    "alamat": "Ciseureuh",
                    "no_hp": "08121234472",
                    "kelas_id": "1",
                    "spp_id": "5",
                    "tahun": "2024",
                    "no_transaksi": "SPP-2024-021",
                    "tanggal": "2024-03-18",
                    "bulan_tagihan": "3",
                    "tahun_tagihan": "2024",
                    "admin_id": "1"
                },
                {
                    "nis": "22001005",
                    "nama_lengkap": "Raden Sinta",
                    "tanggal_lahir": "2000-01-12",
                    "jenis_kelamin": "l",
                    "alamat": "Ciseureuh",
                    "no_hp": "08121234472",
                    "kelas_id": "1",
                    "spp_id": "5",
                    "tahun": "2024",
                    "no_transaksi": "SPP-2024-031",
                    "tanggal": "2024-04-15",
                    "bulan_tagihan": "4",
                    "tahun_tagihan": "2024",
                    "admin_id": "4"
                },
                {
                    "nis": "22001005",
                    "nama_lengkap": "Raden Sinta",
                    "tanggal_lahir": "2000-01-12",
                    "jenis_kelamin": "l",
                    "alamat": "Ciseureuh",
                    "no_hp": "08121234472",
                    "kelas_id": "1",
                    "spp_id": "5",
                    "tahun": "2024",
                    "no_transaksi": "SPP-2024-039",
                    "tanggal": "2024-05-03",
                    "bulan_tagihan": "5",
                    "tahun_tagihan": "2024",
                    "admin_id": "1"
                },
                {
                    "nis": "22001005",
                    "nama_lengkap": "Raden Sinta",
                    "tanggal_lahir": "2000-01-12",
                    "jenis_kelamin": "l",
                    "alamat": "Ciseureuh",
                    "no_hp": "08121234472",
                    "kelas_id": "1",
                    "spp_id": "5",
                    "tahun": "2024",
                    "no_transaksi": "SPP-2024-046",
                    "tanggal": "2024-06-05",
                    "bulan_tagihan": "6",
                    "tahun_tagihan": "2024",
                    "admin_id": "3"
                }
            ]
        },
        "text/html": [
            "<table>",
            "<tr><th>nis</th><th>nama_lengkap</th><th>tanggal_lahir</th><th>jenis_kelamin</th><th>alamat</th><th>no_hp</th><th>kelas_id</th><th>spp_id</th><th>tahun</th><th>no_transaksi</th><th>tanggal</th><th>nis</th><th>bulan_tagihan</th><th>tahun_tagihan</th><th>admin_id</th></tr>",
            "<tr><td>22001005</td><td>Raden Sinta</td><td>2000-01-12</td><td>l</td><td>Ciseureuh</td><td>08121234472</td><td>1</td><td>5</td><td>2024</td><td>SPP-2024-005</td><td>2024-01-23</td><td>22001005</td><td>1</td><td>2024</td><td>1</td></tr>",
            "<tr><td>22001005</td><td>Raden Sinta</td><td>2000-01-12</td><td>l</td><td>Ciseureuh</td><td>08121234472</td><td>1</td><td>5</td><td>2024</td><td>SPP-2024-011</td><td>2024-02-09</td><td>22001005</td><td>2</td><td>2024</td><td>1</td></tr>",
            "<tr><td>22001005</td><td>Raden Sinta</td><td>2000-01-12</td><td>l</td><td>Ciseureuh</td><td>08121234472</td><td>1</td><td>5</td><td>2024</td><td>SPP-2024-021</td><td>2024-03-18</td><td>22001005</td><td>3</td><td>2024</td><td>1</td></tr>",
            "<tr><td>22001005</td><td>Raden Sinta</td><td>2000-01-12</td><td>l</td><td>Ciseureuh</td><td>08121234472</td><td>1</td><td>5</td><td>2024</td><td>SPP-2024-031</td><td>2024-04-15</td><td>22001005</td><td>4</td><td>2024</td><td>4</td></tr>",
            "<tr><td>22001005</td><td>Raden Sinta</td><td>2000-01-12</td><td>l</td><td>Ciseureuh</td><td>08121234472</td><td>1</td><td>5</td><td>2024</td><td>SPP-2024-039</td><td>2024-05-03</td><td>22001005</td><td>5</td><td>2024</td><td>1</td></tr>",
            "<tr><td>22001005</td><td>Raden Sinta</td><td>2000-01-12</td><td>l</td><td>Ciseureuh</td><td>08121234472</td><td>1</td><td>5</td><td>2024</td><td>SPP-2024-046</td><td>2024-06-05</td><td>22001005</td><td>6</td><td>2024</td><td>3</td></tr>",
            "</table>"
        ]
    }
}
],
            "execution_count": 30
        }
    ]
}