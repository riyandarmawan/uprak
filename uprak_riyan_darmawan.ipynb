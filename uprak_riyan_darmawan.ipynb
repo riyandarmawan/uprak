{
    "metadata": {
        "kernelspec": {
            "name": "SQL",
            "display_name": "SQL",
            "language": "sql"
        },
        "language_info": {
            "name": "sql",
            "version": ""
        }
    },
    "nbformat_minor": 2,
    "nbformat": 4,
    "cells": [
        {
            "cell_type": "code",
            "source": [
                "CREATE DATABASE uprak_riyan_darmawan;"
            ],
            "metadata": {
                "azdata_cell_guid": "91085d60-f76f-4c0f-acf1-7f9663e4a3ca",
                "language": "sql"
            },
            "outputs": [
                {
                    "output_type": "display_data",
                    "data": {
                        "text/html": "Commands completed successfully"
                    },
                    "metadata": {}
                },
                {
                    "output_type": "display_data",
                    "data": {
                        "text/html": "Total execution time: 00:00:00.041"
                    },
                    "metadata": {}
                }
            ],
            "execution_count": 2
        },
        {
            "cell_type": "code",
            "source": [
                "USE uprak_riyan_darmawan;"
            ],
            "metadata": {
                "azdata_cell_guid": "e7f6e7ba-cc62-4e17-8513-4c28669b502d",
                "language": "sql"
            },
            "outputs": [
                {
                    "output_type": "display_data",
                    "data": {
                        "text/html": "Commands completed successfully"
                    },
                    "metadata": {}
                },
                {
                    "output_type": "display_data",
                    "data": {
                        "text/html": "Total execution time: 00:00:00.042"
                    },
                    "metadata": {}
                }
            ],
            "execution_count": 3
        },
        {
            "cell_type": "code",
            "source": [
                "CREATE TABLE jurusan(\r\n",
                "    id INT PRIMARY KEY AUTO_INCREMENT,\r\n",
                "    kode_jurusan VARCHAR(10),\r\n",
                "    deskripsi VARCHAR(50)\r\n",
                ");"
            ],
            "metadata": {
                "azdata_cell_guid": "8a2a4135-4cea-45e0-8f69-a1178d90843f",
                "language": "sql"
            },
            "outputs": [
                {
                    "output_type": "display_data",
                    "data": {
                        "text/html": "Total execution time: 00:00:00.005"
                    },
                    "metadata": {}
                },
                {
                    "output_type": "error",
                    "evalue": "1050 (42S01): Table 'jurusan' already exists",
                    "ename": "",
                    "traceback": []
                }
            ],
            "execution_count": 7
        },
        {
            "cell_type": "code",
            "source": [
                "CREATE TABLE kelas(\r\n",
                "    id INT PRIMARY KEY AUTO_INCREMENT,\r\n",
                "    kode_kelas VARCHAR(10),\r\n",
                "    tingkat ENUM('10','11','12'),\r\n",
                "    jurusan_id INT,\r\n",
                "    FOREIGN KEY (jurusan_id) REFERENCES jurusan(id) ON UPDATE CASCADE ON DELETE CASCADE\r\n",
                ");"
            ],
            "metadata": {
                "azdata_cell_guid": "7d301fb8-b906-4cff-8af1-11841803e3cb",
                "language": "sql"
            },
            "outputs": [
                {
                    "output_type": "display_data",
                    "data": {
                        "text/html": "Commands completed successfully"
                    },
                    "metadata": {}
                },
                {
                    "output_type": "display_data",
                    "data": {
                        "text/html": "Total execution time: 00:00:00.033"
                    },
                    "metadata": {}
                }
            ],
            "execution_count": 13
        },
        {
            "cell_type": "code",
            "source": [
                "CREATE TABLE spp(\r\n",
                "    id INT PRIMARY KEY AUTO_INCREMENT,\r\n",
                "    tahun YEAR,\r\n",
                "    nominal BIGINT\r\n",
                ");"
            ],
            "metadata": {
                "azdata_cell_guid": "d4a9c9e7-02c4-491b-8a86-02d17d93f51a",
                "language": "sql"
            },
            "outputs": [
                {
                    "output_type": "display_data",
                    "data": {
                        "text/html": "Commands completed successfully"
                    },
                    "metadata": {}
                },
                {
                    "output_type": "display_data",
                    "data": {
                        "text/html": "Total execution time: 00:00:00.014"
                    },
                    "metadata": {}
                }
            ],
            "execution_count": 11
        },
        {
            "cell_type": "code",
            "source": [
                "CREATE TABLE siswa(\r\n",
                "    nis BIGINT PRIMARY KEY,\r\n",
                "    nama_lengkap VARCHAR(50),\r\n",
                "    tanggal_lahir DATE,\r\n",
                "    jenis_kelamin ENUM('l', 'p'),\r\n",
                "    alamat VARCHAR(100),\r\n",
                "    no_hp VARCHAR(13),\r\n",
                "    kelas_id INT,\r\n",
                "    spp_id INT,\r\n",
                "    FOREIGN KEY (kelas_id) REFERENCES kelas(id) ON UPDATE CASCADE ON DELETE CASCADE,\r\n",
                "    FOREIGN KEY (spp_id) REFERENCES spp(id) ON UPDATE CASCADE ON DELETE CASCADE\r\n",
                ");"
            ],
            "metadata": {
                "azdata_cell_guid": "d4dcae0f-9b75-48b6-ba77-ce57fc3bfac7",
                "language": "sql"
            },
            "outputs": [
                {
                    "output_type": "display_data",
                    "data": {
                        "text/html": "Commands completed successfully"
                    },
                    "metadata": {}
                },
                {
                    "output_type": "display_data",
                    "data": {
                        "text/html": "Total execution time: 00:00:00.052"
                    },
                    "metadata": {}
                }
            ],
            "execution_count": 14
        },
        {
            "cell_type": "code",
            "source": [
                "CREATE TABLE admin(\r\n",
                "    id INT PRIMARY KEY AUTO_INCREMENT,\r\n",
                "    nama_lengkap VARCHAR(50),\r\n",
                "    alamat VARCHAR(100),\r\n",
                "    no_hp VARCHAR(13),\r\n",
                "    username VARCHAR(50),\r\n",
                "    password VARCHAR(255)\r\n",
                ");"
            ],
            "metadata": {
                "azdata_cell_guid": "15215710-fd85-4fcc-a474-40458c9fe396",
                "language": "sql"
            },
            "outputs": [
                {
                    "output_type": "display_data",
                    "data": {
                        "text/html": "Commands completed successfully"
                    },
                    "metadata": {}
                },
                {
                    "output_type": "display_data",
                    "data": {
                        "text/html": "Total execution time: 00:00:00.012"
                    },
                    "metadata": {}
                }
            ],
            "execution_count": 15
        },
        {
            "cell_type": "code",
            "source": [
                "CREATE TABLE pembayaran(\r\n",
                "    no_transaksi VARCHAR(20) PRIMARY KEY,\r\n",
                "    tanggal DATE,\r\n",
                "    nis BIGINT,\r\n",
                "    bulan_tagihan INT,\r\n",
                "    tahun_tagihan YEAR,\r\n",
                "    admin_id INT,\r\n",
                "    FOREIGN KEY (nis) REFERENCES siswa(nis) ON UPDATE CASCADE ON DELETE CASCADE,\r\n",
                "    FOREIGN KEY (admin_id) REFERENCES admin(id) ON UPDATE CASCADE ON DELETE CASCADE\r\n",
                ");"
            ],
            "metadata": {
                "azdata_cell_guid": "e3d6b199-fb6a-4f39-8ac0-ddf2900db8ca",
                "language": "sql"
            },
            "outputs": [
                {
                    "output_type": "display_data",
                    "data": {
                        "text/html": "Commands completed successfully"
                    },
                    "metadata": {}
                },
                {
                    "output_type": "display_data",
                    "data": {
                        "text/html": "Total execution time: 00:00:00.071"
                    },
                    "metadata": {}
                }
            ],
            "execution_count": 16
        },
        {
            "cell_type": "code",
            "source": [
                "INSERT INTO jurusan(kode_jurusan, deskripsi) VALUES\r\n",
                "('RPL', 'Rekayasa Perangkat Lunak'),\r\n",
                "('TKRO', 'Teknik Kendaraan Ringan Otomotif'),\r\n",
                "('TP', 'Teknik Permesinan');"
            ],
            "metadata": {
                "azdata_cell_guid": "7d0be53b-836d-4a81-bf24-29fc9b3084ba",
                "language": "sql"
            },
            "outputs": [
                {
                    "output_type": "display_data",
                    "data": {
                        "text/html": "Commands completed successfully"
                    },
                    "metadata": {}
                },
                {
                    "output_type": "display_data",
                    "data": {
                        "text/html": "Total execution time: 00:00:00.007"
                    },
                    "metadata": {}
                }
            ],
            "execution_count": 26
        },
        {
            "cell_type": "code",
            "source": [
                "INSERT INTO spp(tahun,nominal) VALUES\r\n",
                "('2020', '150000'),\r\n",
                "('2021', '175000'),\r\n",
                "('2022', '200000'),\r\n",
                "('2023', '225000'),\r\n",
                "('2024', '250000');"
            ],
            "metadata": {
                "azdata_cell_guid": "a80f7378-44df-4917-b380-4f96af5d6116",
                "language": "sql"
            },
            "outputs": [
                {
                    "output_type": "display_data",
                    "data": {
                        "text/html": "Commands completed successfully"
                    },
                    "metadata": {}
                },
                {
                    "output_type": "display_data",
                    "data": {
                        "text/html": "Total execution time: 00:00:00.003"
                    },
                    "metadata": {}
                }
            ],
            "execution_count": 18
        },
        {
            "cell_type": "code",
            "source": [
                "INSERT INTO kelas(kode_kelas,tingkat,jurusan_id) VALUES\r\n",
                "('X-RPL', '10', '1'),\r\n",
                "('XI-RPL', '11', '1'),\r\n",
                "('XII-RPL', '12', '1'),\r\n",
                "('X-TKRO-1', '10', '2'),\r\n",
                "('X-TKRO-2', '10', '2'),\r\n",
                "('XI-TKRO-1', '11', '2'),\r\n",
                "('XI-TKRO-2', '11', '2'),\r\n",
                "('XII-TKRO-1', '12', '2'),\r\n",
                "('XII-TKRO-2', '12', '2'),\r\n",
                "('X-TP', '10', '3'),\r\n",
                "('XI-TP', '11', '3'),\r\n",
                "('XII-TP', '12', '3');"
            ],
            "metadata": {
                "azdata_cell_guid": "17a4b85a-4be3-4690-9dd1-b5f3ceb3ac2f",
                "language": "sql"
            },
            "outputs": [
                {
                    "output_type": "display_data",
                    "data": {
                        "text/html": "Commands completed successfully"
                    },
                    "metadata": {}
                },
                {
                    "output_type": "display_data",
                    "data": {
                        "text/html": "Total execution time: 00:00:00.016"
                    },
                    "metadata": {}
                }
            ],
            "execution_count": 27
        },
        {
            "cell_type": "code",
            "source": [
                "INSERT INTO siswa(nis,nama_lengkap,tanggal_lahir,jenis_kelamin,alamat,no_hp,kelas_id,spp_id) VALUES  \r\n",
                "('22001001', 'Santi Rima', '2000/06/18', 'l', 'Ciwangi', '08121234495', '12', '3'),\r\n",
                "('22001002', 'Satria Melati', '2000/07/04', 'p', 'Cimanuk', '08121234404', '3', '3'),\r\n",
                "('22001003', 'Santi Hana', '2000/05/04', 'l', 'Citalang', '08121234471', '11', '4'),\r\n",
                "('22001004', 'Satria Melati', '2000/08/14', 'p', 'Cimanuk', '08121234417', '10', '5'),\r\n",
                "('22001005', 'Raden Sinta', '2000/01/12', 'l', 'Ciseureuh', '08121234472', '1', '5'),\r\n",
                "('22001006', 'Santi Lasmin', '2000/01/11', 'p', 'Cimaung', '08121234450', '4', '5'),\r\n",
                "('22001007', 'Mumun Melati', '2000/11/23', 'p', 'Cimaung', '08121234486', '1', '5'),\r\n",
                "('22001008', 'Santi Kenzo', '2000/01/19', 'p', 'Ciseureuh', '08121234406', '8', '3'),\r\n",
                "('22001009', 'Mumun Lasmi', '2000/11/06', 'p', 'Ciseureuh', '08121234457', '11', '4'),\r\n",
                "('22001010', 'Mala Lasmi', '2000/11/24', 'p', 'Citalang', '08121234499', '11', '4');"
            ],
            "metadata": {
                "azdata_cell_guid": "3aef3ace-18a8-498b-be86-cd7db9d9e8c9",
                "language": "sql"
            },
            "outputs": [
                {
                    "output_type": "display_data",
                    "data": {
                        "text/html": "Commands completed successfully"
                    },
                    "metadata": {}
                },
                {
                    "output_type": "display_data",
                    "data": {
                        "text/html": "Total execution time: 00:00:00.009"
                    },
                    "metadata": {}
                }
            ],
            "execution_count": 28
        },
        {
            "cell_type": "code",
            "source": [
                "INSERT INTO admin(nama_lengkap, alamat, no_hp, username, password) VALUES\r\n",
                "('Ahmad Saefudin', 'Cilegong', '081212342781', 'ahmadsaefudin', 'ahma1234'),\r\n",
                "('Winarti', 'Cibatu', '081212342774', 'winarti', 'wina1234'),\r\n",
                "('Setiawati', 'Citalang', '081212342796', 'setiawati', 'seti1234'),\r\n",
                "('Hana Sinta', 'Cimaung', '081212342796', 'hanasinta', 'hana1234');"
            ],
            "metadata": {
                "azdata_cell_guid": "e24af96f-7545-463f-8040-5bee3542e996",
                "language": "sql"
            },
            "outputs": [
                {
                    "output_type": "display_data",
                    "data": {
                        "text/html": "Commands completed successfully"
                    },
                    "metadata": {}
                },
                {
                    "output_type": "display_data",
                    "data": {
                        "text/html": "Total execution time: 00:00:00.004"
                    },
                    "metadata": {}
                }
            ],
            "execution_count": 29
        }
    ]
}